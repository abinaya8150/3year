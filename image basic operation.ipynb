{
 "cells": [
  {
   "cell_type": "code",
   "execution_count": null,
   "id": "86ee6f96",
   "metadata": {},
   "outputs": [],
   "source": [
    "#import library"
   ]
  },
  {
   "cell_type": "code",
   "execution_count": null,
   "id": "56726441",
   "metadata": {},
   "outputs": [],
   "source": [
    "import cv2"
   ]
  },
  {
   "cell_type": "code",
   "execution_count": null,
   "id": "9c2be9bb",
   "metadata": {},
   "outputs": [],
   "source": [
    "img = cv2.imread(\"PYTHONLOGO.webp\")"
   ]
  },
  {
   "cell_type": "code",
   "execution_count": null,
   "id": "893bed3b",
   "metadata": {},
   "outputs": [],
   "source": [
    "img"
   ]
  },
  {
   "cell_type": "markdown",
   "id": "324121dc",
   "metadata": {},
   "source": [
    "### img.shape"
   ]
  },
  {
   "cell_type": "code",
   "execution_count": null,
   "id": "ca7bbdd7",
   "metadata": {},
   "outputs": [],
   "source": [
    "img.shape"
   ]
  },
  {
   "cell_type": "markdown",
   "id": "d9b72da8",
   "metadata": {},
   "source": [
    "# size of image"
   ]
  },
  {
   "cell_type": "code",
   "execution_count": null,
   "id": "d0af1a1d",
   "metadata": {},
   "outputs": [],
   "source": [
    "size=img.size"
   ]
  },
  {
   "cell_type": "code",
   "execution_count": null,
   "id": "c1af4942",
   "metadata": {
    "scrolled": true
   },
   "outputs": [],
   "source": [
    "size"
   ]
  },
  {
   "cell_type": "code",
   "execution_count": null,
   "id": "3bc8318b",
   "metadata": {},
   "outputs": [],
   "source": [
    "cv2.imshow(\"image\", img)\n",
    "cv2.waitKey(0)\n",
    "cv2.destroyAllWindows()"
   ]
  },
  {
   "cell_type": "code",
   "execution_count": null,
   "id": "fc9378d7",
   "metadata": {},
   "outputs": [],
   "source": [
    "reshape_img=cv2.resize(img,(500,500))"
   ]
  },
  {
   "cell_type": "code",
   "execution_count": null,
   "id": "e18b66c7",
   "metadata": {},
   "outputs": [],
   "source": [
    "reshape_img.shape"
   ]
  },
  {
   "cell_type": "code",
   "execution_count": null,
   "id": "bedf8c2e",
   "metadata": {},
   "outputs": [],
   "source": [
    "cv2.imshow(\"image\", img)\n",
    "cv2.imshow('Resize Image',reshape_img)\n",
    "cv2.waitKey(0)\n",
    "cv2.destroyAllWindows()"
   ]
  },
  {
   "cell_type": "code",
   "execution_count": null,
   "id": "2f909171",
   "metadata": {},
   "outputs": [],
   "source": [
    "px=img[201,200]"
   ]
  },
  {
   "cell_type": "code",
   "execution_count": 13,
   "id": "2e3f8f6d",
   "metadata": {},
   "outputs": [
    {
     "data": {
      "text/plain": [
       "array([[[255, 255, 255],\n",
       "        [255, 255, 255],\n",
       "        [255, 255, 255],\n",
       "        ...,\n",
       "        [255, 255, 255],\n",
       "        [255, 255, 255],\n",
       "        [255, 255, 255]],\n",
       "\n",
       "       [[255, 255, 255],\n",
       "        [255, 255, 255],\n",
       "        [255, 255, 255],\n",
       "        ...,\n",
       "        [255, 255, 255],\n",
       "        [255, 255, 255],\n",
       "        [255, 255, 255]],\n",
       "\n",
       "       [[255, 255, 255],\n",
       "        [255, 255, 255],\n",
       "        [255, 255, 255],\n",
       "        ...,\n",
       "        [255, 255, 255],\n",
       "        [255, 255, 255],\n",
       "        [255, 255, 255]],\n",
       "\n",
       "       ...,\n",
       "\n",
       "       [[255, 255, 255],\n",
       "        [255, 255, 255],\n",
       "        [255, 255, 255],\n",
       "        ...,\n",
       "        [255, 255, 255],\n",
       "        [255, 255, 255],\n",
       "        [255, 255, 255]],\n",
       "\n",
       "       [[255, 255, 255],\n",
       "        [255, 255, 255],\n",
       "        [255, 255, 255],\n",
       "        ...,\n",
       "        [255, 255, 255],\n",
       "        [255, 255, 255],\n",
       "        [255, 255, 255]],\n",
       "\n",
       "       [[255, 255, 255],\n",
       "        [255, 255, 255],\n",
       "        [255, 255, 255],\n",
       "        ...,\n",
       "        [255, 255, 255],\n",
       "        [255, 255, 255],\n",
       "        [255, 255, 255]]], dtype=uint8)"
      ]
     },
     "execution_count": 13,
     "metadata": {},
     "output_type": "execute_result"
    }
   ],
   "source": [
    "img"
   ]
  },
  {
   "cell_type": "code",
   "execution_count": 14,
   "id": "b9205ae5",
   "metadata": {},
   "outputs": [],
   "source": [
    "#roi"
   ]
  },
  {
   "cell_type": "code",
   "execution_count": 15,
   "id": "953ca1ee",
   "metadata": {},
   "outputs": [],
   "source": [
    "img = cv2.imread(\"PYTHONLOGO.webp\")"
   ]
  },
  {
   "cell_type": "code",
   "execution_count": 16,
   "id": "669eeec0",
   "metadata": {},
   "outputs": [],
   "source": [
    "#select ROI"
   ]
  },
  {
   "cell_type": "code",
   "execution_count": null,
   "id": "f31bc255",
   "metadata": {},
   "outputs": [],
   "source": [
    "r=cv2.selectROI(\"select the area\", img)\n",
    "cropped_image = img[int(r[1]):int(r[1]+r[3]),int(r[0]):int(r[0]+r[2])]\n",
    "cv2.imshow(\"Cropped Image\",cropped_image)\n",
    "cv2.waitKey(0)\n",
    "cv2.destroyAllWindows()"
   ]
  },
  {
   "cell_type": "code",
   "execution_count": null,
   "id": "3f9b1eba",
   "metadata": {},
   "outputs": [],
   "source": [
    "cropped_image"
   ]
  },
  {
   "cell_type": "markdown",
   "id": "ebf8b903",
   "metadata": {},
   "source": [
    "# save cropped image"
   ]
  },
  {
   "cell_type": "code",
   "execution_count": null,
   "id": "b0b92e8b",
   "metadata": {},
   "outputs": [],
   "source": [
    "cv2.imwrite(\"SAVEIMAGE.webp\",cropped_image)"
   ]
  },
  {
   "cell_type": "code",
   "execution_count": null,
   "id": "bd53d4d9",
   "metadata": {},
   "outputs": [],
   "source": [
    "img = cv2.imread(\"PYTHONLOGO.webp\")"
   ]
  },
  {
   "cell_type": "code",
   "execution_count": null,
   "id": "03381ec5",
   "metadata": {},
   "outputs": [],
   "source": [
    "b,g,r =cv2.split(img)\n",
    "# yo display the split image\n",
    "cv2.imshow('image',img)\n",
    "cv2.imshow(\"blue\",b)\n",
    "cv2.imshow(\"green\",g)\n",
    "cv2.imshow(\"red\",r)\n",
    "cv2.waitKey(0)\n",
    "cv2.destroyAllWindows()"
   ]
  },
  {
   "cell_type": "code",
   "execution_count": null,
   "id": "466b5112",
   "metadata": {},
   "outputs": [],
   "source": []
  }
 ],
 "metadata": {
  "kernelspec": {
   "display_name": "Python 3 (ipykernel)",
   "language": "python",
   "name": "python3"
  },
  "language_info": {
   "codemirror_mode": {
    "name": "ipython",
    "version": 3
   },
   "file_extension": ".py",
   "mimetype": "text/x-python",
   "name": "python",
   "nbconvert_exporter": "python",
   "pygments_lexer": "ipython3",
   "version": "3.11.5"
  }
 },
 "nbformat": 4,
 "nbformat_minor": 5
}
